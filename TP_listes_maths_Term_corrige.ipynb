{
 "cells": [
  {
   "cell_type": "markdown",
   "metadata": {},
   "source": [
    "---\n",
    "# TP initiation aux listes Python - Spécialité Mathématiques - Terminale\n",
    "---\n",
    "\n",
    "## 1- Généralités sur les listes \n",
    "### a) Qu'est-ce qu'une liste ?\n",
    "Une liste est une structure de données linéaire qui peut contenir des valeurs de différents types (entiers, chaîne de caractères,...).\n",
    "\n",
    "Exécutez la *cellules Code* suivante (sélectionner la \"cellule Code\", puis cliquer sur *Exécuter* ou utiliser le raccourci clavier *CTRL + Entrée*)."
   ]
  },
  {
   "cell_type": "code",
   "execution_count": 1,
   "metadata": {},
   "outputs": [
    {
     "name": "stdout",
     "output_type": "stream",
     "text": [
      "['première 12', 35, '2020']\n",
      "[12.4, 11.6, 3.5, 15.6]\n"
     ]
    }
   ],
   "source": [
    "classe=[\"première 12\",35,\"2020\"]\n",
    "notes=[12.4,11.6,3.5,15.6]\n",
    "print(classe)\n",
    "print(notes)"
   ]
  },
  {
   "cell_type": "markdown",
   "metadata": {},
   "source": [
    "Chaque valeur de la liste est séparée par une virgule, et la liste est délimitée par des crochets.\n",
    "Pour afficher le contenu d'une variable $a$, on utilise l'instruction *print(a)*. Attention, les parenthèses sont obligatoires.\n",
    "\n",
    "<span style='color:blue'>**Application 1**</span> :\n",
    "\n",
    "Dans la *cellule Code* suivante, affecter dans les variables $L1$ et $L2$, respectivement les listes [1,2,3,4,5] et ['a','b','c','d'], et les afficher."
   ]
  },
  {
   "cell_type": "code",
   "execution_count": 2,
   "metadata": {},
   "outputs": [],
   "source": [
    "L1=[1,2,3,4,5]\n",
    "L2=['a','b','c','d']"
   ]
  },
  {
   "cell_type": "markdown",
   "metadata": {},
   "source": [
    "### b) Indice du terme d'une liste. Longueur d'une liste\n",
    "La première valeur d'une liste L est obtenue en tapant L[0], la valeur suivante L[1], etc.\n",
    "\n",
    "Si L=['a','b','c','d'] alors le terme 'a' de la liste a pour **indice** 0, le terme 'b' a pour **index 1**, et le terme 'c' a pour **rang** 2. Les mots indice, index ou rang sont synonymes.\n",
    "\n",
    "La fonction Python *len()* renvoie la **longueur** ou la **taille** de la liste L, c'est-à-dire le nombre n de valeurs de la liste L.\n",
    "Attention, si la liste L contient n valeurs alors la dernière valeur de la liste est L[n-1] que l'on peut aussi obtenir par L[len(L)-1].\n",
    "\n",
    "\n",
    "Exécutez le script suivant :"
   ]
  },
  {
   "cell_type": "code",
   "execution_count": 3,
   "metadata": {},
   "outputs": [
    {
     "name": "stdout",
     "output_type": "stream",
     "text": [
      "première 12\n",
      "35\n",
      "2020\n",
      "3\n"
     ]
    },
    {
     "ename": "IndexError",
     "evalue": "list index out of range",
     "output_type": "error",
     "traceback": [
      "\u001b[0;31m---------------------------------------------------------------------------\u001b[0m",
      "\u001b[0;31mIndexError\u001b[0m                                Traceback (most recent call last)",
      "\u001b[0;32m/tmp/ipykernel_61/2285345122.py\u001b[0m in \u001b[0;36m<module>\u001b[0;34m\u001b[0m\n\u001b[1;32m      4\u001b[0m \u001b[0mprint\u001b[0m\u001b[0;34m(\u001b[0m\u001b[0mclasse\u001b[0m\u001b[0;34m[\u001b[0m\u001b[0;36m2\u001b[0m\u001b[0;34m]\u001b[0m\u001b[0;34m)\u001b[0m\u001b[0;34m\u001b[0m\u001b[0;34m\u001b[0m\u001b[0m\n\u001b[1;32m      5\u001b[0m \u001b[0mprint\u001b[0m\u001b[0;34m(\u001b[0m\u001b[0mlen\u001b[0m\u001b[0;34m(\u001b[0m\u001b[0mclasse\u001b[0m\u001b[0;34m)\u001b[0m\u001b[0;34m)\u001b[0m\u001b[0;34m\u001b[0m\u001b[0;34m\u001b[0m\u001b[0m\n\u001b[0;32m----> 6\u001b[0;31m \u001b[0mprint\u001b[0m\u001b[0;34m(\u001b[0m\u001b[0mclasse\u001b[0m\u001b[0;34m[\u001b[0m\u001b[0;36m3\u001b[0m\u001b[0;34m]\u001b[0m\u001b[0;34m)\u001b[0m\u001b[0;34m\u001b[0m\u001b[0;34m\u001b[0m\u001b[0m\n\u001b[0m",
      "\u001b[0;31mIndexError\u001b[0m: list index out of range"
     ]
    }
   ],
   "source": [
    "classe=[\"première 12\",35,\"2020\"]\n",
    "print(classe[0])\n",
    "print(classe[1])\n",
    "print(classe[2])\n",
    "print(len(classe))\n",
    "print(classe[3])"
   ]
  },
  {
   "cell_type": "markdown",
   "metadata": {},
   "source": [
    "*print(classe[3])* renvoie un message d'erreur car l'index 3 n'existe pas, d'où le message \"index out of range\".\n",
    "\n",
    "<span style='color:blue'>**Application 2**</span> :\n",
    "\n",
    "On considère la liste L=[1,2,3,4,5]. Compléter la ligne 2 en utilisant len(L) pour afficher le dernier terme de cette liste."
   ]
  },
  {
   "cell_type": "code",
   "execution_count": 4,
   "metadata": {},
   "outputs": [
    {
     "name": "stdout",
     "output_type": "stream",
     "text": [
      "5\n"
     ]
    }
   ],
   "source": [
    "L=[1,2,3,4,5]\n",
    "print(L[len(L)-1])"
   ]
  },
  {
   "cell_type": "markdown",
   "metadata": {},
   "source": [
    "## 2- Quelques opérations sur les listes\n",
    "#### a) La concaténation\n",
    "La concaténation des listes L1 et L2 se fait avec l'opérateur +. \n",
    "\n",
    "L1+L2 correspond à la liste composée des valeurs de L1 suivies des valeurs de L2.\n",
    "\n",
    "Il est à noter que la liste L1+L2 diffère de la liste L2+L1 comme le montre la *cellule Code* suivante :"
   ]
  },
  {
   "cell_type": "code",
   "execution_count": 5,
   "metadata": {},
   "outputs": [
    {
     "name": "stdout",
     "output_type": "stream",
     "text": [
      "[1, 2, 3, 4, 5, 6]\n",
      "[4, 5, 6, 1, 2, 3]\n"
     ]
    }
   ],
   "source": [
    "L1=[1,2,3]\n",
    "L2=[4,5,6]\n",
    "print(L1+L2)\n",
    "print(L2+L1)"
   ]
  },
  {
   "cell_type": "markdown",
   "metadata": {},
   "source": [
    "<span style='color:blue'>**Application 3**</span> :\n",
    "\n",
    "A partir des deux listes L1=[1,2,3] et L2=[\"a\",\"b\"], obtenir par concaténation la liste [1,2,3,\"a\",\"b\",1,2,3] dans la *cellule Code* suivante :"
   ]
  },
  {
   "cell_type": "code",
   "execution_count": 7,
   "metadata": {},
   "outputs": [
    {
     "name": "stdout",
     "output_type": "stream",
     "text": [
      "[1, 2, 3, 'a', 'b']\n"
     ]
    }
   ],
   "source": [
    "L1=[1,2,3]\n",
    "L2=[\"a\",\"b\"]\n",
    "L=L1+L2\n",
    "print(L)"
   ]
  },
  {
   "cell_type": "markdown",
   "metadata": {},
   "source": [
    "Au lieu de l'opérateur +, il est possible d'utiliser la méthode *append()* pour ajouter un élément par la droite à la liste."
   ]
  },
  {
   "cell_type": "code",
   "execution_count": 8,
   "metadata": {},
   "outputs": [
    {
     "name": "stdout",
     "output_type": "stream",
     "text": [
      "[1, 2, 3]\n"
     ]
    }
   ],
   "source": [
    "L=[1,2]\n",
    "L.append(3)\n",
    "print(L)"
   ]
  },
  {
   "cell_type": "markdown",
   "metadata": {},
   "source": [
    "<span style='color:blue'>**Application 4**</span> :\n",
    "\n",
    "En partant de la liste à vide L=[], obtenir avec la méthode *append()* la liste L=[\"a\",\"b\",\"c\"], puis l'afficher :"
   ]
  },
  {
   "cell_type": "code",
   "execution_count": 9,
   "metadata": {},
   "outputs": [
    {
     "name": "stdout",
     "output_type": "stream",
     "text": [
      "['a', 'b', 'c']\n"
     ]
    }
   ],
   "source": [
    "L=[]\n",
    "L.append(\"a\")\n",
    "L.append(\"b\")\n",
    "L.append(\"c\")\n",
    "print(L)"
   ]
  },
  {
   "cell_type": "markdown",
   "metadata": {},
   "source": [
    "#### b) L'auto-concaténation\n",
    "\n",
    "Nous allons créer la liste L=[1,2,3] à partir de la liste vide L=[] par auto-concaténations successives de la liste L avec des listes contenant une seule valeur."
   ]
  },
  {
   "cell_type": "code",
   "execution_count": 10,
   "metadata": {},
   "outputs": [
    {
     "name": "stdout",
     "output_type": "stream",
     "text": [
      "[1, 2, 3]\n"
     ]
    }
   ],
   "source": [
    "L=[]\n",
    "L=L+[1]\n",
    "L=L+[2]\n",
    "L=L+[3]\n",
    "print(L)"
   ]
  },
  {
   "cell_type": "markdown",
   "metadata": {},
   "source": [
    "L=L+[1]. Au début L=[] donc L+[1]=[]+[1] génère la liste [1] par concaténation de la liste vide [] et de la liste[1].\n",
    "\n",
    "Ce dernier résultat est affecté dans L.\n",
    "\n",
    "L=L+[2] donc L+[2]=[1]+[2] génère la liste [1,2] par concaténation de la liste [1] et de la liste[2].\n",
    "\n",
    "Ce dernier résultat est affecté dans L.\n",
    "\n",
    "L=L+[3] donc L+[3]=[1,2]+[3] génère la liste [1,2,3] par concaténation de la liste [1,2] et de la liste[3].\n",
    "\n",
    "Ce dernier résultat est affecté dans L.\n",
    "\n",
    "<span style='color:blue'>**Application 5**</span> :\n",
    "\n",
    "En partant de la liste L=[], obtenir par auto-concaténations \"à droite\" de listes à un seul élément, la liste L=[4,5,6].\n",
    "\n",
    "Faire de même, cette fois-ci par des auto-concaténations \"à gauche\"."
   ]
  },
  {
   "cell_type": "code",
   "execution_count": 11,
   "metadata": {},
   "outputs": [
    {
     "name": "stdout",
     "output_type": "stream",
     "text": [
      "[4, 5, 6]\n"
     ]
    }
   ],
   "source": [
    "# A droite\n",
    "L=[]\n",
    "L=L+[4]\n",
    "L=L+[5]\n",
    "L=L+[6]\n",
    "print(L)"
   ]
  },
  {
   "cell_type": "code",
   "execution_count": 12,
   "metadata": {},
   "outputs": [
    {
     "name": "stdout",
     "output_type": "stream",
     "text": [
      "[4, 5, 6]\n"
     ]
    }
   ],
   "source": [
    "# A gauche\n",
    "L=[]\n",
    "L=[6]+L\n",
    "L=[5]+L\n",
    "L=[4]+L\n",
    "print(L)"
   ]
  },
  {
   "cell_type": "markdown",
   "metadata": {},
   "source": [
    "#### c) La duplication\n",
    "\n",
    "L'opérateur de duplication * permet d'obtenir une liste dupliquée. Exécuter les deux *cellules Code* suivantes :"
   ]
  },
  {
   "cell_type": "code",
   "execution_count": 13,
   "metadata": {},
   "outputs": [
    {
     "data": {
      "text/plain": [
       "[0, 0, 0, 0, 0, 0, 0, 0, 0, 0]"
      ]
     },
     "execution_count": 13,
     "metadata": {},
     "output_type": "execute_result"
    }
   ],
   "source": [
    "[0]*10"
   ]
  },
  {
   "cell_type": "code",
   "execution_count": 14,
   "metadata": {},
   "outputs": [
    {
     "data": {
      "text/plain": [
       "[1, 2, 1, 2, 1, 2]"
      ]
     },
     "execution_count": 14,
     "metadata": {},
     "output_type": "execute_result"
    }
   ],
   "source": [
    "[1,2]*3"
   ]
  },
  {
   "cell_type": "markdown",
   "metadata": {},
   "source": [
    "<span style='color:blue'>**Application 6**</span> :\n",
    "\n",
    "En utilisant les opérateurs de concaténation et de duplication créer la liste [\"allô\",\"allô\",\"allô\",\"c'est qui ?\"] à partir des listes [\"allô\"] et [\"c'est qui ?\"]."
   ]
  },
  {
   "cell_type": "code",
   "execution_count": 15,
   "metadata": {},
   "outputs": [
    {
     "data": {
      "text/plain": [
       "['allô', 'allô', 'allô', \"c'est qui ?\"]"
      ]
     },
     "execution_count": 15,
     "metadata": {},
     "output_type": "execute_result"
    }
   ],
   "source": [
    "[\"allô\"]*3+[\"c'est qui ?\"]"
   ]
  },
  {
   "cell_type": "markdown",
   "metadata": {},
   "source": [
    "## 3- Exercices\n",
    "\n",
    "\n",
    "<span style='color:blue'>**Exercice 1**</span> :\n",
    "\n",
    "Soit L une liste d'entiers naturels. Compléter la fonction *pair(L)* pour qu'elle renvoie la liste P des entiers naturels pairs de L."
   ]
  },
  {
   "cell_type": "code",
   "execution_count": 17,
   "metadata": {},
   "outputs": [
    {
     "data": {
      "text/plain": [
       "[2, 4, 6, 8, 10]"
      ]
     },
     "execution_count": 17,
     "metadata": {},
     "output_type": "execute_result"
    }
   ],
   "source": [
    "def pair(L):\n",
    "    P=[]\n",
    "    for i in range(len(L)):\n",
    "        if L[i] % 2 == 0 : # % est l'opérateur qui renvoie le reste de la division euclidienne\n",
    "            P=P+[L[i]]     # Concaténation\n",
    "    return P\n",
    "\n",
    "pair([1,2,3,4,5,6,7,8,9,10])"
   ]
  },
  {
   "cell_type": "markdown",
   "metadata": {},
   "source": [
    "\n",
    "<span style='color:blue'>**Exercice 2**</span> :\n",
    "\n",
    "Soit L une liste d'entiers naturels. Compléter la fonction *moyenne(L)* pour qu'elle renvoie la moyenne arithmétique des valeurs de la liste L."
   ]
  },
  {
   "cell_type": "code",
   "execution_count": 18,
   "metadata": {},
   "outputs": [
    {
     "data": {
      "text/plain": [
       "5.5"
      ]
     },
     "execution_count": 18,
     "metadata": {},
     "output_type": "execute_result"
    }
   ],
   "source": [
    "def moyenne(L):\n",
    "    somme=0\n",
    "    for i in range(len(L)):\n",
    "        somme=somme+L[i]\n",
    "    return somme/len(L)\n",
    "\n",
    "moyenne([1,2,3,4,5,6,7,8,9,10])"
   ]
  },
  {
   "cell_type": "markdown",
   "metadata": {},
   "source": [
    "<span style='color:blue'>**Exercice 3**</span> :\n",
    "\n",
    "On souhaite obtenir une liste L de 10 entiers aléatoires qui simule 10 lancers d'un dé à 6 faces. En utilisant la fonction *randint(1,6)* du module *random*, compléter le script suivant : \n"
   ]
  },
  {
   "cell_type": "code",
   "execution_count": 22,
   "metadata": {},
   "outputs": [
    {
     "data": {
      "text/plain": [
       "[3, 6, 1, 3, 3, 6, 3, 4, 1, 5]"
      ]
     },
     "execution_count": 22,
     "metadata": {},
     "output_type": "execute_result"
    }
   ],
   "source": [
    "from random import *\n",
    "def simulation():\n",
    "    L=[]\n",
    "    for i in range(10):\n",
    "        de=randint(1,6)\n",
    "        L=L+[de]\n",
    "    return L\n",
    "\n",
    "simulation()"
   ]
  },
  {
   "cell_type": "markdown",
   "metadata": {},
   "source": [
    "<span style='color:blue'>**Exercice 4**</span> :\n",
    "\n",
    "On considère suite $(u_n)$ définie pour $n \\in \\mathbb{N}$ par $u_n=3n-5$.\n",
    "1. Définir la fonction $u(n)$ qui renvoie la valeur de $u_n$"
   ]
  },
  {
   "cell_type": "code",
   "execution_count": 30,
   "metadata": {
    "tags": []
   },
   "outputs": [
    {
     "name": "stdout",
     "output_type": "stream",
     "text": [
      "-5\n",
      "25\n"
     ]
    }
   ],
   "source": [
    "def u(n):\n",
    "    \"\"\"\n",
    "    Fonction renvoyant le n-ième terme de la suite u\n",
    "    \"\"\"\n",
    "    return 3*n-5\n",
    "\n",
    "# Tests\n",
    "print(u(0))\n",
    "print(u(10))\n"
   ]
  },
  {
   "cell_type": "markdown",
   "metadata": {},
   "source": [
    "2. Créer une fonction *liste_u(n)* qui renvoie la liste des termes $u_0$ à $u_n$ de la liste $(u_n)$"
   ]
  },
  {
   "cell_type": "code",
   "execution_count": 34,
   "metadata": {},
   "outputs": [
    {
     "name": "stdout",
     "output_type": "stream",
     "text": [
      "[-5, -2, 1, 4, 7, 10, 13, 16, 19, 22, 25]\n"
     ]
    }
   ],
   "source": [
    "def liste_u(n):\n",
    "    \"\"\"\n",
    "    Fonction renvoyant la liste des n+1 premiers termes de la suite u\n",
    "    \"\"\"\n",
    "    L=[]\n",
    "    for i in range(n+1) :\n",
    "        L=L+[u(i)]\n",
    "    return L\n",
    "\n",
    "print(liste_u(10))\n",
    "        \n"
   ]
  },
  {
   "cell_type": "markdown",
   "metadata": {},
   "source": [
    "3. Coder la fonction *somme_u(n)* la fonction qui renvoie la somme $\\sum_{k=0}^{n}u_k$"
   ]
  },
  {
   "cell_type": "code",
   "execution_count": 43,
   "metadata": {},
   "outputs": [
    {
     "name": "stdout",
     "output_type": "stream",
     "text": [
      "110\n"
     ]
    }
   ],
   "source": [
    "def somme_u(n):\n",
    "    \"\"\"\n",
    "    Renvoie la somme des n+1 pemiers termes de la suite u\n",
    "    \"\"\"\n",
    "    somme = 0\n",
    "    for element in liste_u(n) : # On peut également 'énumérer' une liste element par element avec une boucle de ce type\n",
    "        somme = somme + element\n",
    "    return somme\n",
    "\n",
    "# Test\n",
    "print(somme_u(10))\n",
    "        \n",
    "    "
   ]
  },
  {
   "cell_type": "markdown",
   "metadata": {},
   "source": [
    "<span style='color:blue'>**Exercice 5 : Définition en compréhension**</span> :\n",
    "\n",
    "On peut générer une suite en incluant la boucle dans la définition même de la suite.\n",
    "\n",
    "**Exemple :** Génération des 10 premiers nombres pairs"
   ]
  },
  {
   "cell_type": "code",
   "execution_count": 36,
   "metadata": {},
   "outputs": [
    {
     "name": "stdout",
     "output_type": "stream",
     "text": [
      "[0, 2, 4, 6, 8, 10, 12, 14, 16, 18]\n"
     ]
    }
   ],
   "source": [
    "pairs=[2*k for k in range(10)]\n",
    "print(pairs)"
   ]
  },
  {
   "cell_type": "markdown",
   "metadata": {},
   "source": [
    "1. Générer en compréhension la liste *impairs* constituées des 15 premiers nombres impairs."
   ]
  },
  {
   "cell_type": "code",
   "execution_count": 38,
   "metadata": {},
   "outputs": [
    {
     "name": "stdout",
     "output_type": "stream",
     "text": [
      "[1, 3, 5, 7, 9, 11, 13, 15, 17, 19, 21, 23, 25, 27, 29]\n"
     ]
    }
   ],
   "source": [
    "impairs=[2*k+1 for k in range(15)]\n",
    "print(impairs)"
   ]
  },
  {
   "cell_type": "markdown",
   "metadata": {},
   "source": [
    "2. Générer la liste des 12 premiers carrés entiers."
   ]
  },
  {
   "cell_type": "code",
   "execution_count": 41,
   "metadata": {},
   "outputs": [
    {
     "name": "stdout",
     "output_type": "stream",
     "text": [
      "[0, 1, 4, 9, 16, 25, 36, 49, 64, 81, 100, 121]\n"
     ]
    }
   ],
   "source": [
    "carres=[i**2 for i in range(12)]\n",
    "print(carres)"
   ]
  },
  {
   "cell_type": "markdown",
   "metadata": {},
   "source": [
    "3. Générer aléatoirement une liste de 30 nombres entiers compris entre 0 et 100."
   ]
  },
  {
   "cell_type": "code",
   "execution_count": 42,
   "metadata": {},
   "outputs": [
    {
     "name": "stdout",
     "output_type": "stream",
     "text": [
      "[15, 5, 57, 79, 17, 86, 81, 20, 16, 12, 81, 8, 10, 0, 21, 25, 80, 39, 70, 69, 27, 65, 74, 63, 21, 52, 96, 79, 39, 80]\n"
     ]
    }
   ],
   "source": [
    "from random import *\n",
    "\n",
    "alea=[randint(0,100) for i in range(30)]\n",
    "print(alea)"
   ]
  }
 ],
 "metadata": {
  "kernelspec": {
   "display_name": "Python 3 (ipykernel)",
   "language": "python",
   "name": "python3"
  },
  "language_info": {
   "codemirror_mode": {
    "name": "ipython",
    "version": 3
   },
   "file_extension": ".py",
   "mimetype": "text/x-python",
   "name": "python",
   "nbconvert_exporter": "python",
   "pygments_lexer": "ipython3",
   "version": "3.7.12"
  }
 },
 "nbformat": 4,
 "nbformat_minor": 4
}
